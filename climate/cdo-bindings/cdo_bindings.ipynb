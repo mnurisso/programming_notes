{
 "cells": [
  {
   "attachments": {},
   "cell_type": "markdown",
   "metadata": {},
   "source": [
    "# CDO bindings test"
   ]
  },
  {
   "attachments": {},
   "cell_type": "markdown",
   "metadata": {},
   "source": [
    "Additional example can be found here: https://www.ecmwf.int/sites/default/files/elibrary/2018/18722-cdos-python-bindings.pdf"
   ]
  },
  {
   "attachments": {},
   "cell_type": "markdown",
   "metadata": {},
   "source": [
    "Before using the cdo bindigs we need to import the cdo bindings package (`python-cdo` in `conda` or `mamba`).\n",
    "Additionally, before calling an operator, an object has to be created first.\n",
    "\n",
    "We make use of the `tempdir` argument in order to store temporary data output in a custom folder and avoid heavy memory usage."
   ]
  },
  {
   "cell_type": "code",
   "execution_count": 1,
   "metadata": {},
   "outputs": [],
   "source": [
    "import cdo\n",
    "\n",
    "tempPath = '/scratch/users/mnurisso/tempcdo/'\n",
    "cdo = cdo.Cdo(tempdir=tempPath)"
   ]
  },
  {
   "cell_type": "code",
   "execution_count": 2,
   "metadata": {},
   "outputs": [],
   "source": [
    "# Load some test data\n",
    "\n",
    "path = '/work/datasets/obs/ERA5/mean_sea_level_pressure/mon/'\n",
    "filename = 'ERA5_mean_sea_level_pressure_mon_0.25x0.25_sfc_1979-2021.nc'\n",
    "\n",
    "infile = path+filename"
   ]
  },
  {
   "attachments": {},
   "cell_type": "markdown",
   "metadata": {},
   "source": [
    "## Simple command test\n",
    "\n",
    "We try to run a simple `showname` cdo command that does not save any output file."
   ]
  },
  {
   "cell_type": "code",
   "execution_count": 3,
   "metadata": {},
   "outputs": [
    {
     "data": {
      "text/plain": [
       "['msl']"
      ]
     },
     "execution_count": 3,
     "metadata": {},
     "output_type": "execute_result"
    }
   ],
   "source": [
    "cdo.showname(input=infile)"
   ]
  },
  {
   "attachments": {},
   "cell_type": "markdown",
   "metadata": {},
   "source": [
    "We try now to run a simple command having as output a file, to check how it is saved normally and how instead we can convert the output directly as a `xarray` `Dataset`"
   ]
  },
  {
   "cell_type": "code",
   "execution_count": 5,
   "metadata": {},
   "outputs": [
    {
     "name": "stdout",
     "output_type": "stream",
     "text": [
      "/scratch/users/mnurisso/tempcdo/cdoPy66ebs_vc\n"
     ]
    }
   ],
   "source": [
    "msl_ma = cdo.monmean(input=infile)\n",
    "print(msl_ma)"
   ]
  },
  {
   "attachments": {},
   "cell_type": "markdown",
   "metadata": {},
   "source": [
    "In the first case the result of the cdo command is saved in a temporary file in the temporary folder that we have specified at the beginning. The `print()` command returns the path of this temporary file and cannot be analized with the `xarray` tools. It can be instead used as input for a new cdo command.\n",
    "\n",
    "If we want to save the output as `xDataset` for further analysis:"
   ]
  },
  {
   "cell_type": "code",
   "execution_count": 6,
   "metadata": {},
   "outputs": [
    {
     "name": "stdout",
     "output_type": "stream",
     "text": [
      "<xarray.Dataset>\n",
      "Dimensions:    (time: 516, bnds: 2, lon: 1440, lat: 721)\n",
      "Coordinates:\n",
      "  * time       (time) datetime64[ns] 1979-01-01 1979-02-01 ... 2021-12-01\n",
      "  * lon        (lon) float64 0.0 0.25 0.5 0.75 1.0 ... 359.0 359.2 359.5 359.8\n",
      "  * lat        (lat) float64 90.0 89.75 89.5 89.25 ... -89.25 -89.5 -89.75 -90.0\n",
      "Dimensions without coordinates: bnds\n",
      "Data variables:\n",
      "    time_bnds  (time, bnds) datetime64[ns] ...\n",
      "    msl        (time, lat, lon) float32 ...\n",
      "Attributes:\n",
      "    CDI:          Climate Data Interface version 2.1.1 (https://mpimet.mpg.de...\n",
      "    Conventions:  CF-1.6\n",
      "    institution:  European Centre for Medium-Range Weather Forecasts\n",
      "    history:      Tue Feb 14 15:51:06 2023: cdo -O -s -f nc -monmean /work/da...\n",
      "    frequency:    mon\n",
      "    CDO:          Climate Data Operators version 2.1.1 (https://mpimet.mpg.de...\n"
     ]
    }
   ],
   "source": [
    "msl_ma_dataset = cdo.monmean(input=infile,returnXDataset='msl_ma_dataset')\n",
    "print(msl_ma_dataset)"
   ]
  },
  {
   "cell_type": "code",
   "execution_count": 11,
   "metadata": {},
   "outputs": [],
   "source": [
    "cdo.sub(input=[msl_ma,msl_ma_av],returnXDataset='test')"
   ]
  },
  {
   "attachments": {},
   "cell_type": "markdown",
   "metadata": {},
   "source": [
    "Commands requiring multiple inputs file can be called as well:\n",
    "`cdo.sub(input=[msl_ma,msl_ma_av])`\n",
    "\n",
    "Commands can also be concatenated like `cdo.timmean(input= '-monmean' + infile)`\n",
    "\n",
    "An output file can be specified and it can be returned by the cdo command:\n",
    "\n",
    "`cdo.div(input=[sub_nao,std_ma],output=ofile)`"
   ]
  },
  {
   "attachments": {},
   "cell_type": "markdown",
   "metadata": {},
   "source": [
    "## Cleanup the temporary files\n",
    "\n",
    "Temporary files are not deleted when the jupyter notebook is closed. \n",
    "In order to empty the space we need to run an additional command."
   ]
  },
  {
   "cell_type": "code",
   "execution_count": 8,
   "metadata": {},
   "outputs": [],
   "source": [
    "cdo.cleanTempDir()"
   ]
  }
 ],
 "metadata": {
  "kernelspec": {
   "display_name": "aqua",
   "language": "python",
   "name": "python3"
  },
  "language_info": {
   "codemirror_mode": {
    "name": "ipython",
    "version": 3
   },
   "file_extension": ".py",
   "mimetype": "text/x-python",
   "name": "python",
   "nbconvert_exporter": "python",
   "pygments_lexer": "ipython3",
   "version": "3.10.9"
  },
  "orig_nbformat": 4,
  "vscode": {
   "interpreter": {
    "hash": "3e3b80be15d8b7824bdac94dd60428e03a1db75ec501e03347a37a9ba639a94b"
   }
  }
 },
 "nbformat": 4,
 "nbformat_minor": 2
}

{
 "cells": [
  {
   "cell_type": "markdown",
   "metadata": {},
   "source": [
    "# Jupyter on Cluster"
   ]
  },
  {
   "cell_type": "markdown",
   "metadata": {},
   "source": [
    "It is possible to run a Jupyter Notebook on a cluster node\n",
    "\n",
    "If Jupyter is not installed, it can be installed through Conda"
   ]
  },
  {
   "cell_type": "markdown",
   "metadata": {},
   "source": [
    "## Install Jupyter on cluster with Conda"
   ]
  },
  {
   "cell_type": "markdown",
   "metadata": {},
   "source": [
    "`conda install -c conda-forge jupyterlab`"
   ]
  },
  {
   "cell_type": "markdown",
   "metadata": {},
   "source": [
    "Jupyter should be installed in your `base` environment"
   ]
  },
  {
   "cell_type": "markdown",
   "metadata": {},
   "source": [
    "## Run Jupyter on your cluster\n",
    "\n",
    "**Attention!** if you're going to run heay codes consider running the Jupyter cluster in a work node and not in your login node!\n",
    "\n",
    "1. Open a session: `> jupyter-lab`\n",
    "2. Take note of your localhost adress (8888 in general)\n",
    "3. On a local terminal connect to the local host: `> ssh -N -f -L localhost:8888:localhost:8888 mnurisso@frontend2.hpc.sissa.it` The last part will be dependent on your specific cluster\n",
    "4. Open the browser with which you usually use Jupyter (Firefox)\n",
    "5. Past the url assigned to the Jupyter notebook on the browser"
   ]
  },
  {
   "cell_type": "markdown",
   "metadata": {},
   "source": [
    "## Run Jupyter through a screen session"
   ]
  },
  {
   "cell_type": "markdown",
   "metadata": {},
   "source": [
    "1. Create a screen in the note in which you'll run the Jupyter notebook `> screen -S session_name`\n",
    "2. Eventually move to the conda environment you need to use\n",
    "3. Open a Jupyter notebook, taking note of the adresses used in the previous method\n",
    "4. `ctrl+a+d` to detach from the screen session\n",
    "5. Run this bash function, that can be added to your `bashrc` file:\n",
    "\n",
    "```\n",
    "jupsissa() {\n",
    "    my_port=$(ps aux | egrep 'localhost' |egrep 8888 | awk '{print $2}');\n",
    "    port_len=$(echo -n $my_port | wc -m)\n",
    "    zero=0\n",
    "    if [ $port_len -ne $zero ];\n",
    "    then\n",
    "        my_pid=${my_port};\n",
    "        kill $my_pid;\n",
    "    fi\n",
    "    ssh -N -f -L localhost:8888:localhost:8888 mnurisso@frontend2.hpc.sissa.it;\n",
    "    firefox http://localhost:8888                                                                                                                                                                          \n",
    "    }\n",
    "```"
   ]
  },
  {
   "cell_type": "code",
   "execution_count": null,
   "metadata": {},
   "outputs": [],
   "source": []
  }
 ],
 "metadata": {
  "kernelspec": {
   "display_name": "Python 3",
   "language": "python",
   "name": "python3"
  },
  "language_info": {
   "codemirror_mode": {
    "name": "ipython",
    "version": 3
   },
   "file_extension": ".py",
   "mimetype": "text/x-python",
   "name": "python",
   "nbconvert_exporter": "python",
   "pygments_lexer": "ipython3",
   "version": "3.7.6"
  }
 },
 "nbformat": 4,
 "nbformat_minor": 4
}
